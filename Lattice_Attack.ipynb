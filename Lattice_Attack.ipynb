{
  "nbformat": 4,
  "nbformat_minor": 0,
  "metadata": {
    "colab": {
      "name": "Lattice Attack.ipynb",
      "provenance": [],
      "collapsed_sections": []
    },
    "kernelspec": {
      "name": "python3",
      "display_name": "Python 3"
    },
    "language_info": {
      "name": "python"
    }
  },
  "cells": [
    {
      "cell_type": "code",
      "execution_count": null,
      "metadata": {
        "id": "2iR2EOZl0qI1"
      },
      "outputs": [],
      "source": [
        ""
      ]
    },
    {
      "cell_type": "code",
      "source": [
        "#@title **INSTALL >> SAGE + ECDSA + BITCOIN + algorithm LLL**\n",
        "\n",
        "!apt-get update\n",
        "!sudo apt update\n",
        "!pip3 install utils\n",
        "!pip3 install ecdsa\n",
        "!pip3 install bitcoin\n",
        "!pip3 install base58\n",
        "!pip2 install utils\n",
        "!pip2 install ecdsa\n",
        "!pip2 install bitcoin\n",
        "!pip2 install base58\n",
        "!sudo apt install python-gmpy2\n",
        "!yes '' | sudo env DEBIAN_FRONTEND=noninteractive apt-get -y -o DPkg::options::=\"--force-confdef\" -o DPkg::options::=\"--force-confold\" install sagemath\n"
      ],
      "metadata": {
        "cellView": "form",
        "id": "OidhYZ4M0sGV"
      },
      "execution_count": null,
      "outputs": []
    },
    {
      "cell_type": "code",
      "source": [
        ""
      ],
      "metadata": {
        "id": "SjFM-sh60sBE"
      },
      "execution_count": null,
      "outputs": []
    },
    {
      "cell_type": "code",
      "source": [
        "!chmod +x lattice.sh\n",
        "!sed -i -e 's/\\r$//' lattice.sh\n"
      ],
      "metadata": {
        "id": "hWalwA_J0r7e"
      },
      "execution_count": 2,
      "outputs": []
    },
    {
      "cell_type": "code",
      "source": [
        ""
      ],
      "metadata": {
        "id": "mmhEoESv0r18"
      },
      "execution_count": null,
      "outputs": []
    },
    {
      "cell_type": "code",
      "source": [
        "!./lattice.sh 49c9ed215778c8dfa026d696204ede44ca068577c71045f7a083996c47ccbf34 17kPKTWpDKgDES6RT11Xuz2qgyLNBsDrgu\n"
      ],
      "metadata": {
        "id": "kdxyiMgZ0ruz"
      },
      "execution_count": null,
      "outputs": []
    },
    {
      "cell_type": "code",
      "source": [
        ""
      ],
      "metadata": {
        "id": "1JBNonqv0rj3"
      },
      "execution_count": null,
      "outputs": []
    },
    {
      "cell_type": "code",
      "source": [
        "#@title **Clear Data Base**\n",
        "\n",
        "!rm *.txt\n",
        "!rm *.csv\n",
        "!rm *.json\n",
        "\n"
      ],
      "metadata": {
        "cellView": "form",
        "id": "-jwJKHfh0rd4"
      },
      "execution_count": 4,
      "outputs": []
    },
    {
      "cell_type": "code",
      "source": [
        ""
      ],
      "metadata": {
        "id": "9E5ShzGw0rY5"
      },
      "execution_count": null,
      "outputs": []
    },
    {
      "cell_type": "code",
      "source": [
        ""
      ],
      "metadata": {
        "id": "mOv2dZzA0rSD"
      },
      "execution_count": null,
      "outputs": []
    },
    {
      "cell_type": "code",
      "source": [
        ""
      ],
      "metadata": {
        "id": "c0MIXRUx0rLi"
      },
      "execution_count": null,
      "outputs": []
    },
    {
      "cell_type": "code",
      "source": [
        ""
      ],
      "metadata": {
        "id": "BigwvWsq0rBq"
      },
      "execution_count": null,
      "outputs": []
    }
  ]
}